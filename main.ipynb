{
 "cells": [
  {
   "cell_type": "markdown",
   "metadata": {},
   "source": [
    "# LAB | MLOps Deployment from PROD to DEV"
   ]
  },
  {
   "cell_type": "markdown",
   "metadata": {
    "vscode": {
     "languageId": "plaintext"
    }
   },
   "source": [
    "\n",
    "## Objective\n",
    "In this exercise, you will work in pairs to simulate the process of deploying code from a development environment (DEV) to a production environment (PRD). One student will act as the developer pushing code, while the other will be the gatekeeper ensuring the code runs correctly.\n",
    "\n",
    "## Instructions\n",
    "\n",
    "### Step 1: Form Pairs\n",
    "- Split into pairs, Done✅.\n",
    "\n",
    "### Step 2: Developer Role\n",
    "1. **Push Code to Repository**\n",
    "   - Create a new project or use an existing one, Done✅.\n",
    "   - Copy the code to a folder (which will be a git repo in a few minutes), Done✅.\n",
    "   - Create a venv (see previous class in case you missed something), Done✅.\n",
    "   - Install all the necessary packages, Done✅.\n",
    "   - Create the requirements.txt file, Done✅.\n",
    "\n",
    "   - Initialize a git repository in your project folder:\n",
    "     ```sh\n",
    "     git init\n",
    "     ```\n",
    "     , Done✅.\n",
    "   - Add your project files to the repository - **do not add the venv folder to git**:\n",
    "     ```sh\n",
    "     git add [each_file]\n",
    "     ```\n",
    "    , Done✅.\n",
    "   - Commit your changes:\n",
    "     ```sh\n",
    "     git commit -m \"Initial commit\"\n",
    "     ```\n",
    "     , Done✅.\n",
    "\n",
    "   - Push your project to a remote git repository (GitHub, GitLab, etc.):\n",
    "     ```sh\n",
    "     git remote add origin <remote-repo-url>\n",
    "     git push -u origin main\n",
    "     ```\n",
    "     , Done✅.\n",
    "\n",
    "2. **Create a Pull Request**\n",
    "   - Go to your remote repository and create a pull request (PR)., Done✅.\n",
    "\n",
    "### Step 3: Gatekeeper Role\n",
    "1. **Review and Pull Code**\n",
    "   - Review the pull request created by your partner., Done✅.\n",
    "   - If everything looks good, merge the pull request., Done✅.\n",
    "   - Pull the latest changes from the remote repository:\n",
    "     ```sh\n",
    "     git pull origin main\n",
    "     ```\n",
    "     , Done✅.\n",
    "\n",
    "2. **Setup Environment**\n",
    "   - Navigate to the project directory., Done✅.\n",
    "   - Create an empty venv, Done✅.\n",
    "   - Install the required dependencies listed in `requirements.txt`:\n",
    "     ```sh\n",
    "     pip install -r requirements.txt\n",
    "     ```\n",
    "     , Done✅.\n",
    "\n",
    "3. **Run the Project**\n",
    "   - Ensure the project runs without errors., Done✅.\n",
    "   - Provide feedback to the developer if there are any issues., Done✅.\n",
    "\n",
    "### Step 4: Swap Roles and Repeat\n",
    "- Swap roles and repeat the exercise, so each student gets to be both the developer and the gatekeeper., Done✅.\n",
    "  - Bonus: to simulate reality, try to do this again outside a video call (via Slack messages for example)\n",
    "\n",
    "### Notes\n",
    "- Ensure clear communication between partners during the process.\n",
    "- Make use of version control best practices.\n",
    "- Document any issues encountered and how they were resolved.\n",
    "\n",
    "## Deliverables\n",
    "- Each pair should have a functioning project that has been successfully reviewed, pulled, and run by the gatekeeper. Done✅.\n",
    "- A brief report on the process, any challenges faced, and how they were overcome.\n",
    "\n",
    "We practiced simulating a deployment from a development (DEV) environment to production (PRD) by working in pairs. In the developer role, I created a simple Streamlit app called app.py, set up a virtual environment, installed the necessary packages, generated a requirements.txt file, and pushed the project to a GitHub repository. My partner reviewed and merged the pull request.\n",
    "\n",
    "When it was my turn as the gatekeeper, I pulled the latest code, created a new virtual environment, installed the dependencies, and successfully ran the Streamlit app to confirm it worked as expected.\n",
    "\n",
    "We ran into a couple of challenges during the process: the virtual environment folder was mistakenly added to the Git repository, which we corrected by using a .gitignore file. Additionally, a required package was missing from requirements.txt, which caused an error when setting up the environment. We fixed it by updating the file and reinstalling the dependencies.\n",
    "\n",
    "This exercise helped us better understand the importance of clean version control, accurate dependency tracking, and clear communication during deployment."
   ]
  }
 ],
 "metadata": {
  "kernelspec": {
   "display_name": "venv_ironhack",
   "language": "python",
   "name": "python3"
  },
  "language_info": {
   "codemirror_mode": {
    "name": "ipython",
    "version": 3
   },
   "file_extension": ".py",
   "mimetype": "text/x-python",
   "name": "python",
   "nbconvert_exporter": "python",
   "pygments_lexer": "ipython3",
   "version": "3.11.9"
  }
 },
 "nbformat": 4,
 "nbformat_minor": 2
}
